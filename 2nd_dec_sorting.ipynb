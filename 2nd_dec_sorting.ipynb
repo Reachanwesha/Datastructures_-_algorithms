{
 "cells": [
  {
   "cell_type": "code",
   "execution_count": 9,
   "id": "1707e400",
   "metadata": {},
   "outputs": [
    {
     "name": "stdout",
     "output_type": "stream",
     "text": [
      "[1, 2, 3, 4]\n"
     ]
    }
   ],
   "source": [
    "def bubbleSort(arr):\n",
    "    for i in range(len(arr)-1,0,-1):\n",
    "        for j in range(i):\n",
    "            if arr[j]>arr[j+1]:\n",
    "                arr[j],arr[j+1]=arr[j+1],arr[j]\n",
    "arr=[4,2,3,1]\n",
    "bubbleSort(arr)\n",
    "print(arr)\n",
    "#time complexity=o(n2)\n",
    "#worst case = if this arrayy is already in descending order, o(n2)\n"
   ]
  },
  {
   "cell_type": "code",
   "execution_count": 11,
   "id": "d56e4691",
   "metadata": {},
   "outputs": [
    {
     "name": "stdout",
     "output_type": "stream",
     "text": [
      "array is sorted\n",
      "[1, 2, 3, 4]\n"
     ]
    }
   ],
   "source": [
    "def bubbleSort_optimized(arr):\n",
    "    for i in range(len(arr)-1,0,-1):\n",
    "        isSorted = True    ##flag\n",
    "        for j in range(i):\n",
    "            if arr[j]>arr[j+1]:\n",
    "                isSorted=False\n",
    "                arr[j],arr[j+1]=arr[j+1],arr[j]\n",
    "        if isSorted :\n",
    "            print('array is sorted')\n",
    "            break\n",
    "arr=[1,2,3,4]\n",
    "bubbleSort_optimized(arr)\n",
    "print(arr)\n",
    "#best case 0(n)\n",
    "#worst case =  o(n2)"
   ]
  },
  {
   "cell_type": "code",
   "execution_count": 12,
   "id": "b56c3279",
   "metadata": {},
   "outputs": [],
   "source": [
    "#given an array chexk if it is already sorted?\n",
    "\n",
    "def isSorted(arr):\n",
    "    isSorted=True\n",
    "    for i in range(len(arr)-1):\n",
    "        if arr[i]>arr[i+1]:\n",
    "            isSorted = False\n",
    "            break\n",
    "    if isSorted:\n",
    "        priny('array is sorted')\n",
    "    else:\n",
    "        print('array is not sorted')"
   ]
  },
  {
   "cell_type": "code",
   "execution_count": 14,
   "id": "dcbdb445",
   "metadata": {},
   "outputs": [
    {
     "name": "stdout",
     "output_type": "stream",
     "text": [
      "array is sorted\n",
      "already sorted\n"
     ]
    }
   ],
   "source": [
    "array_sorted(arr2)"
   ]
  },
  {
   "cell_type": "code",
   "execution_count": 15,
   "id": "e042b8b6",
   "metadata": {},
   "outputs": [],
   "source": [
    "##selection sort"
   ]
  },
  {
   "cell_type": "code",
   "execution_count": 22,
   "id": "80b7e2ae",
   "metadata": {},
   "outputs": [
    {
     "ename": "TypeError",
     "evalue": "'int' object is not iterable",
     "output_type": "error",
     "traceback": [
      "\u001b[0;31m---------------------------------------------------------------------------\u001b[0m",
      "\u001b[0;31mTypeError\u001b[0m                                 Traceback (most recent call last)",
      "\u001b[0;32m<ipython-input-22-a0df7b3f9456>\u001b[0m in \u001b[0;36m<module>\u001b[0;34m\u001b[0m\n\u001b[1;32m      5\u001b[0m             \u001b[0marr\u001b[0m\u001b[0;34m[\u001b[0m\u001b[0mj\u001b[0m\u001b[0;34m]\u001b[0m\u001b[0;34m,\u001b[0m\u001b[0marr\u001b[0m\u001b[0;34m[\u001b[0m\u001b[0mj\u001b[0m\u001b[0;34m+\u001b[0m\u001b[0;36m1\u001b[0m\u001b[0;34m]\u001b[0m\u001b[0;34m=\u001b[0m\u001b[0marr\u001b[0m\u001b[0;34m[\u001b[0m\u001b[0mj\u001b[0m\u001b[0;34m+\u001b[0m\u001b[0;36m1\u001b[0m\u001b[0;34m]\u001b[0m\u001b[0;34m,\u001b[0m\u001b[0marr\u001b[0m\u001b[0;34m[\u001b[0m\u001b[0mj\u001b[0m\u001b[0;34m]\u001b[0m\u001b[0;34m\u001b[0m\u001b[0;34m\u001b[0m\u001b[0m\n\u001b[1;32m      6\u001b[0m \u001b[0marr\u001b[0m\u001b[0;34m=\u001b[0m\u001b[0;34m[\u001b[0m\u001b[0;36m4\u001b[0m\u001b[0;34m,\u001b[0m\u001b[0;36m2\u001b[0m\u001b[0;34m,\u001b[0m\u001b[0;36m3\u001b[0m\u001b[0;34m,\u001b[0m\u001b[0;36m1\u001b[0m\u001b[0;34m]\u001b[0m\u001b[0;34m\u001b[0m\u001b[0;34m\u001b[0m\u001b[0m\n\u001b[0;32m----> 7\u001b[0;31m \u001b[0mselect_sort\u001b[0m\u001b[0;34m(\u001b[0m\u001b[0marr\u001b[0m\u001b[0;34m)\u001b[0m\u001b[0;34m\u001b[0m\u001b[0;34m\u001b[0m\u001b[0m\n\u001b[0m\u001b[1;32m      8\u001b[0m \u001b[0mprint\u001b[0m\u001b[0;34m(\u001b[0m\u001b[0marr\u001b[0m\u001b[0;34m)\u001b[0m\u001b[0;34m\u001b[0m\u001b[0;34m\u001b[0m\u001b[0m\n",
      "\u001b[0;32m<ipython-input-22-a0df7b3f9456>\u001b[0m in \u001b[0;36mselect_sort\u001b[0;34m(arr)\u001b[0m\n\u001b[1;32m      2\u001b[0m     \u001b[0;32mfor\u001b[0m \u001b[0mi\u001b[0m \u001b[0;32min\u001b[0m \u001b[0mrange\u001b[0m\u001b[0;34m(\u001b[0m\u001b[0mlen\u001b[0m\u001b[0;34m(\u001b[0m\u001b[0marr\u001b[0m\u001b[0;34m)\u001b[0m\u001b[0;34m)\u001b[0m\u001b[0;34m:\u001b[0m\u001b[0;34m\u001b[0m\u001b[0;34m\u001b[0m\u001b[0m\n\u001b[1;32m      3\u001b[0m         \u001b[0;32mfor\u001b[0m \u001b[0mj\u001b[0m \u001b[0;32min\u001b[0m \u001b[0mrange\u001b[0m\u001b[0;34m(\u001b[0m\u001b[0mi\u001b[0m\u001b[0;34m+\u001b[0m\u001b[0;36m1\u001b[0m\u001b[0;34m,\u001b[0m\u001b[0mlen\u001b[0m\u001b[0;34m(\u001b[0m\u001b[0marr\u001b[0m\u001b[0;34m)\u001b[0m\u001b[0;34m)\u001b[0m\u001b[0;34m:\u001b[0m\u001b[0;34m\u001b[0m\u001b[0;34m\u001b[0m\u001b[0m\n\u001b[0;32m----> 4\u001b[0;31m             \u001b[0mmin\u001b[0m\u001b[0;34m(\u001b[0m \u001b[0marr\u001b[0m\u001b[0;34m[\u001b[0m\u001b[0mj\u001b[0m\u001b[0;34m]\u001b[0m\u001b[0;34m)\u001b[0m\u001b[0;34m<\u001b[0m\u001b[0marr\u001b[0m\u001b[0;34m[\u001b[0m\u001b[0mj\u001b[0m\u001b[0;34m+\u001b[0m\u001b[0;36m1\u001b[0m\u001b[0;34m]\u001b[0m\u001b[0;34m\u001b[0m\u001b[0;34m\u001b[0m\u001b[0m\n\u001b[0m\u001b[1;32m      5\u001b[0m             \u001b[0marr\u001b[0m\u001b[0;34m[\u001b[0m\u001b[0mj\u001b[0m\u001b[0;34m]\u001b[0m\u001b[0;34m,\u001b[0m\u001b[0marr\u001b[0m\u001b[0;34m[\u001b[0m\u001b[0mj\u001b[0m\u001b[0;34m+\u001b[0m\u001b[0;36m1\u001b[0m\u001b[0;34m]\u001b[0m\u001b[0;34m=\u001b[0m\u001b[0marr\u001b[0m\u001b[0;34m[\u001b[0m\u001b[0mj\u001b[0m\u001b[0;34m+\u001b[0m\u001b[0;36m1\u001b[0m\u001b[0;34m]\u001b[0m\u001b[0;34m,\u001b[0m\u001b[0marr\u001b[0m\u001b[0;34m[\u001b[0m\u001b[0mj\u001b[0m\u001b[0;34m]\u001b[0m\u001b[0;34m\u001b[0m\u001b[0;34m\u001b[0m\u001b[0m\n\u001b[1;32m      6\u001b[0m \u001b[0marr\u001b[0m\u001b[0;34m=\u001b[0m\u001b[0;34m[\u001b[0m\u001b[0;36m4\u001b[0m\u001b[0;34m,\u001b[0m\u001b[0;36m2\u001b[0m\u001b[0;34m,\u001b[0m\u001b[0;36m3\u001b[0m\u001b[0;34m,\u001b[0m\u001b[0;36m1\u001b[0m\u001b[0;34m]\u001b[0m\u001b[0;34m\u001b[0m\u001b[0;34m\u001b[0m\u001b[0m\n",
      "\u001b[0;31mTypeError\u001b[0m: 'int' object is not iterable"
     ]
    }
   ],
   "source": [
    "def select_sort(arr):\n",
    "    for i in range(len(arr)):\n",
    "        for j in range(i+1,len(arr)):\n",
    "            min( arr[j])<arr[j+1]\n",
    "            arr[j],arr[j+1]=arr[j+1],arr[j]\n",
    "arr=[4,2,3,1]\n",
    "select_sort(arr)\n",
    "print(arr)           "
   ]
  },
  {
   "cell_type": "code",
   "execution_count": 20,
   "id": "0abdb354",
   "metadata": {},
   "outputs": [],
   "source": [
    "def selection_sort(arr):\n",
    "    for i in range(len(arr)):      #iterating through range\n",
    "        min=i\n",
    "        #find the smallest value\n",
    "        for j in range(i+1,len(arr)):   #finding minimum value\n",
    "            if arr[j]<arr[min]:\n",
    "                min = j\n",
    "        arr[i],arr[min] = arr[min],arr[i]\n",
    "                   ##unstable sort"
   ]
  },
  {
   "cell_type": "code",
   "execution_count": 21,
   "id": "9e55f65f",
   "metadata": {},
   "outputs": [
    {
     "name": "stdout",
     "output_type": "stream",
     "text": [
      "[3, 3, 35, 53, 77]\n"
     ]
    }
   ],
   "source": [
    "arr=[3,77,53,35,3]\n",
    "selection_sort(arr)\n",
    "print(arr)"
   ]
  },
  {
   "cell_type": "code",
   "execution_count": 27,
   "id": "3182ead7",
   "metadata": {},
   "outputs": [],
   "source": [
    "#insertion sort\n",
    "def insertion_sort(arr):\n",
    "    for i in range(1,len(arr)):\n",
    "        v=arr[i]\n",
    "        j=i\n",
    "        while ((j>=1) and (arr[j-1]>v)):\n",
    "            arr[j]=arr[j-1]\n",
    "            j-=1\n",
    "        arr[j]=v"
   ]
  },
  {
   "cell_type": "code",
   "execution_count": 28,
   "id": "78e9fba6",
   "metadata": {},
   "outputs": [
    {
     "name": "stdout",
     "output_type": "stream",
     "text": [
      "[3, 3, 35, 53, 77]\n"
     ]
    }
   ],
   "source": [
    "arr=[3,77,53,35,3]\n",
    "insertion_sort(arr)\n",
    "print(arr)"
   ]
  },
  {
   "cell_type": "code",
   "execution_count": 30,
   "id": "146e55d7",
   "metadata": {},
   "outputs": [],
   "source": [
    "#linear_Search\n",
    "def search(arr,num):\n",
    "    for i in range(len(arr)):\n",
    "        if arr[i]==num:\n",
    "            return i\n",
    "    return -1\n",
    "##tc=o(n)"
   ]
  },
  {
   "cell_type": "code",
   "execution_count": 32,
   "id": "a3470a46",
   "metadata": {},
   "outputs": [
    {
     "data": {
      "text/plain": [
       "3"
      ]
     },
     "execution_count": 32,
     "metadata": {},
     "output_type": "execute_result"
    }
   ],
   "source": [
    "search([2,3,4,5],5)"
   ]
  },
  {
   "cell_type": "code",
   "execution_count": 33,
   "id": "bb417132",
   "metadata": {},
   "outputs": [],
   "source": [
    "def binarySearch(arr,num):\n",
    "    left = 0\n",
    "    right = len(arr)-1\n",
    "    #Mid= (Left+right)/2\n",
    "    \n",
    "    \n",
    "    while(left<=right):\n",
    "        mid=int(left +(right-left)/2)\n",
    "        if arr[mid] == num:\n",
    "            return mid\n",
    "        elif arr[mid]>num:\n",
    "            right = mid-1\n",
    "        else:\n",
    "            left = mid+1\n",
    "    return -1\n",
    "##ts = log(n)"
   ]
  },
  {
   "cell_type": "code",
   "execution_count": 34,
   "id": "c7654138",
   "metadata": {},
   "outputs": [
    {
     "data": {
      "text/plain": [
       "2"
      ]
     },
     "execution_count": 34,
     "metadata": {},
     "output_type": "execute_result"
    }
   ],
   "source": [
    "binarySearch([2,3,4,5,6],4)"
   ]
  },
  {
   "cell_type": "code",
   "execution_count": null,
   "id": "34121273",
   "metadata": {},
   "outputs": [],
   "source": []
  }
 ],
 "metadata": {
  "kernelspec": {
   "display_name": "Python 3",
   "language": "python",
   "name": "python3"
  },
  "language_info": {
   "codemirror_mode": {
    "name": "ipython",
    "version": 3
   },
   "file_extension": ".py",
   "mimetype": "text/x-python",
   "name": "python",
   "nbconvert_exporter": "python",
   "pygments_lexer": "ipython3",
   "version": "3.8.8"
  }
 },
 "nbformat": 4,
 "nbformat_minor": 5
}
