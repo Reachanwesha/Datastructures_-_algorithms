{
 "cells": [
  {
   "cell_type": "code",
   "execution_count": 1,
   "id": "ed5580ac",
   "metadata": {},
   "outputs": [],
   "source": [
    "#define the list node\n",
    "#set or get data or next node.\n",
    "\n",
    "class node:\n",
    "    def __init__(self,data=None,next=None):\n",
    "        self.data = data\n",
    "        self.next = next\n",
    "        \n",
    "    ##method to set the data value\n",
    "    def setData(self,data):\n",
    "        self.data=data\n",
    "        \n",
    "    ##method to get the data value\n",
    "    def getData(self):\n",
    "        return self.data\n",
    "    \n",
    "    ##method to set next\n",
    "    def setNext(self,next):\n",
    "        self.next = next\n",
    "        \n",
    "    ##method to get next\n",
    "    def getNext(self):\n",
    "        return self.next"
   ]
  },
  {
   "cell_type": "code",
   "execution_count": 18,
   "id": "6d445ee7",
   "metadata": {},
   "outputs": [
    {
     "name": "stdout",
     "output_type": "stream",
     "text": [
      "1->2->3->4->"
     ]
    }
   ],
   "source": [
    "#create a linked list --> it is collection of list nodes\n",
    "\n",
    "head = node(1)\n",
    "node2 = node(2)\n",
    "node3 = node(3)\n",
    "node4 = node(4)\n",
    "node5 = node(5)\n",
    "\n",
    "#creating the linkage\n",
    "head.setNext(node2)\n",
    "node2.setNext(node3)\n",
    "node3.setNext(node4)\n",
    "node4.setNext(node5)\n",
    "\n",
    "#Traverse the linked list\n",
    "def traverse(head):\n",
    "    temp = head  #variable takes a constant extra space, constant extra space takes no extra space.\n",
    "    while (temp != None):\n",
    "        while(temp):\n",
    "            print(temp.getData(),end=\"->\")\n",
    "            temp = temp.getNext()   #Jump to next node\n",
    "\n",
    "#traverse rceursively\n",
    "\n",
    "def traverseRec(node):\n",
    "    if not node:\n",
    "        return\n",
    "    print(node.getData(),end=\"->\")\n",
    "    traverseRec(node.getNext())\n",
    "traverseRec(head)"
   ]
  },
  {
   "cell_type": "code",
   "execution_count": 8,
   "id": "c306e529",
   "metadata": {},
   "outputs": [
    {
     "name": "stdout",
     "output_type": "stream",
     "text": [
      "4\n"
     ]
    }
   ],
   "source": [
    "#finidng length/size of linked list\n",
    "\n",
    "def length(head):\n",
    "    \n",
    "    temp = head  #variable takes a constant extra space, constant extra space takes no extra space.\n",
    "    len = 0\n",
    "    while (temp):\n",
    "        while(temp):\n",
    "            len+=1\n",
    "            temp = temp.getNext()\n",
    "        return len\n",
    "print(length(head))"
   ]
  },
  {
   "cell_type": "code",
   "execution_count": 14,
   "id": "7e2b22f7",
   "metadata": {},
   "outputs": [
    {
     "name": "stdout",
     "output_type": "stream",
     "text": [
      "4\n"
     ]
    }
   ],
   "source": [
    "##we write recursively\n",
    "def length_rec(head):\n",
    "    if not head:\n",
    "        return 0\n",
    "    return length_rec(head.getNext())+1\n",
    "print(length_rec(head))"
   ]
  },
  {
   "cell_type": "code",
   "execution_count": 15,
   "id": "a22a587d",
   "metadata": {},
   "outputs": [],
   "source": [
    "#insertion"
   ]
  },
  {
   "cell_type": "code",
   "execution_count": 18,
   "id": "2bc839e4",
   "metadata": {},
   "outputs": [],
   "source": [
    "class node :\n",
    "\n",
    "    def __init__(self,data=None, next=None):\n",
    "        self.data = data\n",
    "        self.next = next\n",
    "\n",
    "  #Method to set the data value\n",
    "    def setData(self,data):\n",
    "        self.data = data\n",
    "\n",
    "  #method to get the data value\n",
    "    def getData(self):\n",
    "        return self.data\n",
    "\n",
    "  #Method of set the next\n",
    "    def setNext(self, next):\n",
    "        self.next = next\n",
    "\n",
    "  #Method to get the next\n",
    "    def getNext(self):\n",
    "        return self.next"
   ]
  },
  {
   "cell_type": "markdown",
   "id": "12bc3ce8",
   "metadata": {},
   "source": [
    "3->2->1->4->5->none"
   ]
  },
  {
   "cell_type": "code",
   "execution_count": 21,
   "id": "d20ab8a7",
   "metadata": {},
   "outputs": [
    {
     "name": "stdout",
     "output_type": "stream",
     "text": [
      "1->2->3->4->5->\n",
      "1->2->3->8->4->5->"
     ]
    }
   ],
   "source": [
    "#insert 7 at the begining \n",
    "#creating the linkage\n",
    "\n",
    "def insertnode(head,data,k): #k th is the position\n",
    "    #if k is valid ?\n",
    "    if (k>length(head) or k<0):\n",
    "        print('argument k passed is not valid')\n",
    "        return head\n",
    "#create new node for data\n",
    "    newnode = node(data)\n",
    " #create new node object\n",
    "    if (k==0):\n",
    "        #we need to insert at the begining \n",
    "        #we need to update the head\n",
    "        newnode.setNext(head)\n",
    "        head = newnode\n",
    "    else:\n",
    "        #when not in begining\n",
    "        #we need to jump to previous node of position\n",
    "        prev = head\n",
    "        i=0\n",
    "        while(i<k-1):\n",
    "            prev = prev.getNext()\n",
    "            i+=1\n",
    "            \n",
    "        #prev will be one positionleft of kth position\n",
    "        newnode.setNext(prev.getNext())\n",
    "        prev.setNext(newnode)\n",
    "    return head\n",
    "\n",
    "\n",
    "head = node(1)\n",
    "node2 = node(2)\n",
    "node3 = node(3)\n",
    "node4 = node(4)\n",
    "node5 = node(5)\n",
    "\n",
    "#creating the linkage\n",
    "head.setNext(node2)\n",
    "node2.setNext(node3)\n",
    "node3.setNext(node4)\n",
    "node4.setNext(node5)\n",
    "\n",
    "traverse(head)\n",
    "print()\n",
    "head = insertnode(head,8,3)\n",
    "\n",
    "traverse(head)\n"
   ]
  },
  {
   "cell_type": "code",
   "execution_count": 20,
   "id": "d4425d2e",
   "metadata": {},
   "outputs": [],
   "source": [
    "class node :\n",
    "\n",
    "    def __init__(self,data=None, next=None):\n",
    "        self.data = data\n",
    "        self.next = next\n",
    "\n",
    "  #Method to set the data value\n",
    "    def setData(self,data):\n",
    "        self.data = data\n",
    "\n",
    "  #method to get the data value\n",
    "    def getData(self):\n",
    "        return self.data\n",
    "\n",
    "  #Method of set the next\n",
    "    def setNext(self, next):\n",
    "        self.next = next\n",
    "\n",
    "  #Method to get the next\n",
    "    def getNext(self):\n",
    "        return self.next"
   ]
  },
  {
   "cell_type": "code",
   "execution_count": 14,
   "id": "877e8e4d",
   "metadata": {},
   "outputs": [],
   "source": [
    "def traverse(head):\n",
    "    temp = head  #variable takes a constant extra space, constant extra space takes no extra space.\n",
    "    while (temp != None):\n",
    "        while(temp):\n",
    "            print(temp.getData(),end=\"->\")\n",
    "            temp = temp.getNext() "
   ]
  },
  {
   "cell_type": "code",
   "execution_count": 15,
   "id": "503b33da",
   "metadata": {},
   "outputs": [],
   "source": [
    "#deletion\n",
    "\n",
    "\n",
    "def length(head):\n",
    "    \n",
    "    temp = head  #variable takes a constant extra space, constant extra space takes no extra space.\n",
    "    len = 0\n",
    "    while (temp):\n",
    "        while(temp):\n",
    "            len+=1\n",
    "            temp = temp.getNext()\n",
    "        return len\n",
    "\n",
    "\n"
   ]
  },
  {
   "cell_type": "code",
   "execution_count": 17,
   "id": "abd5ff8b",
   "metadata": {},
   "outputs": [
    {
     "name": "stdout",
     "output_type": "stream",
     "text": [
      "1->2->3->4->5->6->7->\n",
      "1->2->3->4->5->7->"
     ]
    }
   ],
   "source": [
    "def remove(head,k):\n",
    "    if(k<0 or k>= length(head) or not head):\n",
    "        return head\n",
    "    if (k==0):\n",
    "        head = head.getNext()\n",
    "    else:\n",
    "        i=0\n",
    "        prev = head\n",
    "        while(i<k-1):\n",
    "            prev = prev.getNext()\n",
    "            i+=1\n",
    "        ##prev will. be pointing to the node left of the kth position\n",
    "        prev.setNext(prev.getNext().getNext())\n",
    "    return head\n",
    "#implement this function\n",
    "\n",
    "head = node(1)\n",
    "node2 = node(2)\n",
    "node3 = node(3)\n",
    "node4 = node(4)\n",
    "node5 = node(5)\n",
    "node6 = node(6)\n",
    "node7 = node(7)\n",
    "\n",
    "#creating the linkage\n",
    "head.setNext(node2)\n",
    "node2.setNext(node3)\n",
    "node3.setNext(node4)\n",
    "node4.setNext(node5)\n",
    "node5.setNext(node6)\n",
    "node6.setNext(node7)\n",
    "\n",
    "traverse(head)\n",
    "print()\n",
    "head= remove(head,5)\n",
    "traverse(head)\n"
   ]
  },
  {
   "cell_type": "code",
   "execution_count": null,
   "id": "e3fe398c",
   "metadata": {},
   "outputs": [],
   "source": [
    "##given a linked list. Find the middle of the linked list\n"
   ]
  },
  {
   "cell_type": "code",
   "execution_count": 48,
   "id": "7fe6454e",
   "metadata": {},
   "outputs": [],
   "source": [
    "class node :\n",
    "\n",
    "    def __init__(self,data=None, next=None):\n",
    "        self.data = data\n",
    "        self.next = next\n",
    "\n",
    "  #Method to set the data value\n",
    "    def setData(self,data):\n",
    "        self.data = data\n",
    "\n",
    "  #method to get the data value\n",
    "    def getData(self):\n",
    "        return self.data\n",
    "\n",
    "  #Method of set the next\n",
    "    def setNext(self, next):\n",
    "        self.next = next\n",
    "\n",
    "  #Method to get the next\n",
    "    def getNext(self):\n",
    "        return self.next"
   ]
  },
  {
   "cell_type": "code",
   "execution_count": 49,
   "id": "5fc8905c",
   "metadata": {},
   "outputs": [],
   "source": [
    "def traverse(head):\n",
    "    temp = head  #variable takes a constant extra space, constant extra space takes no extra space.\n",
    "    while (temp != None):\n",
    "        while(temp):\n",
    "            print(temp.getData(),end=\"->\")\n",
    "            temp = temp.getNext() "
   ]
  },
  {
   "cell_type": "code",
   "execution_count": 50,
   "id": "6b41069a",
   "metadata": {},
   "outputs": [],
   "source": [
    "def length(head):\n",
    "    \n",
    "    temp = head  #variable takes a constant extra space, constant extra space takes no extra space.\n",
    "    len = 0\n",
    "    while (temp):\n",
    "        while(temp):\n",
    "            len+=1\n",
    "            temp = temp.getNext()\n",
    "        return len"
   ]
  },
  {
   "cell_type": "code",
   "execution_count": 51,
   "id": "c7bbc0cb",
   "metadata": {},
   "outputs": [
    {
     "name": "stdout",
     "output_type": "stream",
     "text": [
      "1->2->3->4->5->6->7->\n"
     ]
    },
    {
     "ename": "AttributeError",
     "evalue": "'int' object has no attribute 'getNext'",
     "output_type": "error",
     "traceback": [
      "\u001b[0;31m---------------------------------------------------------------------------\u001b[0m",
      "\u001b[0;31mAttributeError\u001b[0m                            Traceback (most recent call last)",
      "\u001b[0;32m<ipython-input-51-5c8b841b43b9>\u001b[0m in \u001b[0;36m<module>\u001b[0;34m\u001b[0m\n\u001b[1;32m     25\u001b[0m \u001b[0mtraverse\u001b[0m\u001b[0;34m(\u001b[0m\u001b[0mhead\u001b[0m\u001b[0;34m)\u001b[0m\u001b[0;34m\u001b[0m\u001b[0;34m\u001b[0m\u001b[0m\n\u001b[1;32m     26\u001b[0m \u001b[0mprint\u001b[0m\u001b[0;34m(\u001b[0m\u001b[0;34m)\u001b[0m\u001b[0;34m\u001b[0m\u001b[0;34m\u001b[0m\u001b[0m\n\u001b[0;32m---> 27\u001b[0;31m \u001b[0mhead\u001b[0m\u001b[0;34m=\u001b[0m \u001b[0mmiddle\u001b[0m\u001b[0;34m(\u001b[0m\u001b[0;36m5\u001b[0m\u001b[0;34m)\u001b[0m\u001b[0;34m\u001b[0m\u001b[0;34m\u001b[0m\u001b[0m\n\u001b[0m\u001b[1;32m     28\u001b[0m \u001b[0mtraverse\u001b[0m\u001b[0;34m(\u001b[0m\u001b[0mhead\u001b[0m\u001b[0;34m)\u001b[0m\u001b[0;34m\u001b[0m\u001b[0;34m\u001b[0m\u001b[0m\n",
      "\u001b[0;32m<ipython-input-51-5c8b841b43b9>\u001b[0m in \u001b[0;36mmiddle\u001b[0;34m(head)\u001b[0m\n\u001b[1;32m      3\u001b[0m     \u001b[0mfast\u001b[0m\u001b[0;34m=\u001b[0m\u001b[0mhead\u001b[0m\u001b[0;34m\u001b[0m\u001b[0;34m\u001b[0m\u001b[0m\n\u001b[1;32m      4\u001b[0m \u001b[0;34m\u001b[0m\u001b[0m\n\u001b[0;32m----> 5\u001b[0;31m     \u001b[0;32mwhile\u001b[0m\u001b[0;34m(\u001b[0m\u001b[0mfast\u001b[0m \u001b[0;34m!=\u001b[0m\u001b[0;32mNone\u001b[0m \u001b[0;32mand\u001b[0m \u001b[0mfast\u001b[0m\u001b[0;34m.\u001b[0m\u001b[0mgetNext\u001b[0m\u001b[0;34m(\u001b[0m\u001b[0;34m)\u001b[0m\u001b[0;34m!=\u001b[0m\u001b[0;32mNone\u001b[0m\u001b[0;34m)\u001b[0m\u001b[0;34m:\u001b[0m\u001b[0;34m\u001b[0m\u001b[0;34m\u001b[0m\u001b[0m\n\u001b[0m\u001b[1;32m      6\u001b[0m         \u001b[0mslow\u001b[0m \u001b[0;34m=\u001b[0m \u001b[0mslow\u001b[0m\u001b[0;34m.\u001b[0m\u001b[0mgetNext\u001b[0m\u001b[0;34m(\u001b[0m\u001b[0;34m)\u001b[0m\u001b[0;34m\u001b[0m\u001b[0;34m\u001b[0m\u001b[0m\n\u001b[1;32m      7\u001b[0m         \u001b[0mfast\u001b[0m\u001b[0;34m=\u001b[0m\u001b[0mfast\u001b[0m\u001b[0;34m.\u001b[0m\u001b[0mgetNext\u001b[0m\u001b[0;34m(\u001b[0m\u001b[0;34m)\u001b[0m\u001b[0;34m.\u001b[0m\u001b[0mgetNext\u001b[0m\u001b[0;34m(\u001b[0m\u001b[0;34m)\u001b[0m\u001b[0;34m\u001b[0m\u001b[0;34m\u001b[0m\u001b[0m\n",
      "\u001b[0;31mAttributeError\u001b[0m: 'int' object has no attribute 'getNext'"
     ]
    }
   ],
   "source": [
    "def middle(head):\n",
    "    slow=head\n",
    "    fast=head\n",
    "    \n",
    "    while(fast !=None and fast.getNext()!=None):\n",
    "        slow = slow.getNext()\n",
    "        fast=fast.getNext().getNext()\n",
    "    return slow.getData()\n",
    "head = node(1)\n",
    "node2 = node(2)\n",
    "node3 = node(3)\n",
    "node4 = node(4)\n",
    "node5 = node(5)\n",
    "node6 = node(6)\n",
    "node7 = node(7)\n",
    "\n",
    "#creating the linkage\n",
    "head.setNext(node2)\n",
    "node2.setNext(node3)\n",
    "node3.setNext(node4)\n",
    "node4.setNext(node5)\n",
    "node5.setNext(node6)\n",
    "node6.setNext(node7)\n",
    "\n",
    "traverse(head)\n",
    "print()\n",
    "head= middle(5)\n",
    "traverse(head)\n"
   ]
  },
  {
   "cell_type": "code",
   "execution_count": 55,
   "id": "40348bb9",
   "metadata": {},
   "outputs": [
    {
     "name": "stdout",
     "output_type": "stream",
     "text": [
      "False\n"
     ]
    }
   ],
   "source": [
    "#IF GIVEN HEAD OF A LINKED LIST, IF IT FORMS CYCLE/LOOP?\n",
    "def isCycle(head):\n",
    "    slow=head\n",
    "    fast=head\n",
    "    \n",
    "    while (fast and fast.getNext()):\n",
    "        slow = slow.getNext()\n",
    "        fast = fast.getNext().getNext()\n",
    "        \n",
    "        if fast and slow.getData() == fast.getData():\n",
    "            return True #cycle exists\n",
    "    return False #cycle doeesn't exists\n",
    "\n",
    "head = node(1)\n",
    "node2 = node(2)\n",
    "node3 = node(3)\n",
    "node4 = node(4)\n",
    "node5 = node(5)\n",
    "node6 = node(6)\n",
    "node7 = node(7)\n",
    "\n",
    "#creating the linkage\n",
    "head.setNext(node2)\n",
    "node2.setNext(node3)\n",
    "node3.setNext(node4)\n",
    "node4.setNext(node5)\n",
    "node5.setNext(node6)\n",
    "node6.setNext(node7)\n",
    "\n",
    "print(isCycle(head))"
   ]
  },
  {
   "cell_type": "code",
   "execution_count": 57,
   "id": "933a2a80",
   "metadata": {},
   "outputs": [],
   "source": [
    "##if code has duplicate node! solve as assignment"
   ]
  },
  {
   "cell_type": "code",
   "execution_count": 58,
   "id": "46955296",
   "metadata": {},
   "outputs": [
    {
     "name": "stdout",
     "output_type": "stream",
     "text": [
      "None\n"
     ]
    }
   ],
   "source": [
    "#find starting point of loop\n",
    "def startingpoint(head):\n",
    "    slow=head\n",
    "    fast=head\n",
    "    isCycle = False\n",
    "    while (fast and fast.getNext()):\n",
    "        slow=slow.getNext()\n",
    "        fast=fast.getNext().getNext()\n",
    "        \n",
    "        if(fast and slow.getData()==fast.getData()):\n",
    "            isCycle = True\n",
    "            break\n",
    "    if not isCycle:\n",
    "        return None\n",
    "    \n",
    "    temp=head\n",
    "    while (temp.getData() !=slow.getData()):\n",
    "        temp=temp.getNext()\n",
    "        slow=slow.getNext()\n",
    "        \n",
    "    return temp.getData()\n",
    "\n",
    "head = node(1)\n",
    "node2 = node(2)\n",
    "node3 = node(3)\n",
    "node4 = node(4)\n",
    "node5 = node(5)\n",
    "node6 = node(6)\n",
    "node7 = node(7)\n",
    "\n",
    "#creating the linkage\n",
    "head.setNext(node2)\n",
    "node2.setNext(node3)\n",
    "node3.setNext(node4)\n",
    "node4.setNext(node5)\n",
    "node5.setNext(node6)\n",
    "node6.setNext(node7)\n",
    "\n",
    "print(startingpoint(head))"
   ]
  },
  {
   "cell_type": "code",
   "execution_count": 59,
   "id": "c678e843",
   "metadata": {},
   "outputs": [],
   "source": [
    "#make the above code for finding loop work for duplicate nodes\n"
   ]
  },
  {
   "cell_type": "code",
   "execution_count": 60,
   "id": "caadf0af",
   "metadata": {},
   "outputs": [],
   "source": [
    "#reverse the linklist"
   ]
  },
  {
   "cell_type": "code",
   "execution_count": null,
   "id": "38ede14a",
   "metadata": {},
   "outputs": [],
   "source": []
  }
 ],
 "metadata": {
  "kernelspec": {
   "display_name": "Python 3",
   "language": "python",
   "name": "python3"
  },
  "language_info": {
   "codemirror_mode": {
    "name": "ipython",
    "version": 3
   },
   "file_extension": ".py",
   "mimetype": "text/x-python",
   "name": "python",
   "nbconvert_exporter": "python",
   "pygments_lexer": "ipython3",
   "version": "3.8.8"
  }
 },
 "nbformat": 4,
 "nbformat_minor": 5
}
