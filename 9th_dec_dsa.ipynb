{
 "cells": [
  {
   "cell_type": "code",
   "execution_count": 4,
   "id": "448df47f",
   "metadata": {},
   "outputs": [
    {
     "name": "stdout",
     "output_type": "stream",
     "text": [
      "2\n"
     ]
    }
   ],
   "source": [
    "#how many time array has been rotated?\n",
    "def countRotations(arr):\n",
    "    min = arr[0]\n",
    "    min_index = 0\n",
    "    \n",
    "    for i in range(1,len(arr)):\n",
    "        if (min>arr[i]):\n",
    "            min = arr[i]\n",
    "            min_index = i\n",
    "    return min_index\n",
    "print(countRotations([15,18,2,3,6,12]))"
   ]
  },
  {
   "cell_type": "markdown",
   "id": "bfd3f8b0",
   "metadata": {},
   "source": [
    "#given an array of int, print the array in such a way that the first element is first maximum and second element is first minimum and so on. Examples: Input : arr[] = {7,1,2,3,4,5,6}, output {7,1,6,2,5,3,4}"
   ]
  },
  {
   "cell_type": "code",
   "execution_count": 3,
   "id": "c0ae12c5",
   "metadata": {},
   "outputs": [
    {
     "name": "stdout",
     "output_type": "stream",
     "text": [
      "[3, 3, 35, 53, 77]\n",
      "77\n",
      "3\n",
      "53\n",
      "3\n",
      "35\n"
     ]
    }
   ],
   "source": [
    "\n",
    "def selection_sort(arr):\n",
    "    for i in range(len(arr)):      #iterating through range\n",
    "        min=i\n",
    "        \n",
    "        for j in range(i+1,len(arr)):  \n",
    "            if arr[j]<arr[min]:\n",
    "                min = j\n",
    "                arr[i],arr[min] = arr[min],arr[i]\n",
    "arr=[3,77,53,35,3]\n",
    "selection_sort(arr)\n",
    "print(arr)\n",
    "left = 0\n",
    "right = len(arr)-1\n",
    "while left<=right:\n",
    "    if left==right:\n",
    "        print(arr[left])\n",
    "    else:\n",
    "        print(arr[right])\n",
    "        print(arr[left])\n",
    "    left+=1\n",
    "    right-=1"
   ]
  },
  {
   "cell_type": "code",
   "execution_count": 2,
   "id": "20aef24f",
   "metadata": {},
   "outputs": [
    {
     "name": "stdout",
     "output_type": "stream",
     "text": [
      "77\n",
      "3\n",
      "53\n",
      "13\n",
      "35"
     ]
    }
   ],
   "source": [
    "def selection_sort(arr):\n",
    "    for i in range(len(arr)):      #iterating through range\n",
    "        min=i\n",
    "        \n",
    "        for j in range(i+1,len(arr)):  \n",
    "            if arr[j]<arr[min]:\n",
    "                min = j\n",
    "                arr[i],arr[min] = arr[min],arr[i]\n",
    "\n",
    "def printorder(arr):\n",
    "    selection_sort(arr)\n",
    "    left = 0\n",
    "    right = len(arr)-1\n",
    "    while left<=right:\n",
    "        if left==right:\n",
    "            print(arr[left],end=\"\")\n",
    "        else:\n",
    "            print(arr[right])\n",
    "            print(arr[left])\n",
    "        left+=1\n",
    "        right-=1\n",
    "printorder([13,77,53,35,3])"
   ]
  },
  {
   "cell_type": "markdown",
   "id": "81a34b80",
   "metadata": {},
   "source": [
    "Sort an array in wave form given an unsorted array of int, sort the array into a\n",
    "a wave like array, an array \"arr[0...n-1] is sorted in wave form if arr[0]>=arr[1]<=arr[3]<=arr[4]>=..\""
   ]
  },
  {
   "cell_type": "code",
   "execution_count": 4,
   "id": "4d978602",
   "metadata": {},
   "outputs": [
    {
     "name": "stdout",
     "output_type": "stream",
     "text": [
      "[10, 90, 49, 3, 2, 5, 1, 23]\n"
     ]
    }
   ],
   "source": [
    "def sortinwav(arr):\n",
    "    for i in range(0, len(arr)-1,2):\n",
    "        if( i >0 and arr[i]>arr[i-1]):\n",
    "            arr[i],arr[i-1] = arr[i-1],arr[i]\n",
    "arr = [10,90,49,2,3,1,5,23]\n",
    "sortinwav(arr)\n",
    "print(arr)"
   ]
  },
  {
   "cell_type": "code",
   "execution_count": 7,
   "id": "cb572f74",
   "metadata": {},
   "outputs": [
    {
     "name": "stdout",
     "output_type": "stream",
     "text": [
      "[3, 6, 9, -1, -1]\n",
      "[2, 4]\n",
      "[3, 6, 9, 2, 4]\n"
     ]
    }
   ],
   "source": [
    "#Merge an array of size n into another array of size m+n in sorted order\n",
    "\n",
    "\n",
    "def insertion(arr1,m,arr2,n):\n",
    "    #size of arr1 is m+n and its first m elements are having numbers\n",
    "    i=m-1\n",
    "    j=n-1\n",
    "    k=m+n-1\n",
    "    \n",
    "    while(i>=0 and j>=0):\n",
    "        if (arr1[i]>arr2[j]):\n",
    "            arr1[k]=arr1[i]\n",
    "            i-=1\n",
    "        else:\n",
    "            arr1[k]=arr2[j]\n",
    "            j-=1\n",
    "            k-=1\n",
    "    while(i>=0):\n",
    "        arr1[k]=arr1[i]\n",
    "        k -=1\n",
    "        i-=1\n",
    "    while(j>=0):\n",
    "        arr1[k]=arr2[j]\n",
    "        k -=1\n",
    "        j-=1\n",
    "\n",
    "\n",
    "arr1 = [3,6,9,-1,-1]\n",
    "print(arr1)\n",
    "print(arr2)\n",
    "arr2 = [2,4]\n",
    "\n",
    "insertion(arr1,3,arr2,2) \n",
    "print(arr1)\n",
    "    "
   ]
  },
  {
   "cell_type": "code",
   "execution_count": 11,
   "id": "a072e999",
   "metadata": {},
   "outputs": [
    {
     "name": "stdout",
     "output_type": "stream",
     "text": [
      "[0, 0, 0, 0, 1, 1]\n"
     ]
    }
   ],
   "source": [
    "#sort an array containing two types of element we are given an array of 0s and 1s in random order. Segregate 0s on left side and 1s on right side of the array. Traverse array only once.\n",
    "#two pointer approach\n",
    "\n",
    "def sort_0_1(arr):\n",
    "    left_pointer=0\n",
    "    right_pointer = len(arr)-1\n",
    "    \n",
    "    while left_pointer<right_pointer:\n",
    "        while arr[left_pointer]==0 and left_pointer < right_pointer:\n",
    "            left_pointer +=1\n",
    "            \n",
    "        while arr[right_pointer]==1 and left_pointer < right_pointer:\n",
    "            right_pointer -=1\n",
    "            \n",
    "        if left_pointer<right_pointer:\n",
    "            arr[left_pointer],arr[right_pointer]=arr[right_pointer],arr[left_pointer]\n",
    "            left_pointer +=1\n",
    "            right_pointer -=1\n",
    "arr = [1,0,0,0,1,0]\n",
    "sort_0_1(arr)\n",
    "print(arr)"
   ]
  },
  {
   "cell_type": "code",
   "execution_count": null,
   "id": "6ff0f7b9",
   "metadata": {},
   "outputs": [],
   "source": []
  }
 ],
 "metadata": {
  "kernelspec": {
   "display_name": "Python 3",
   "language": "python",
   "name": "python3"
  },
  "language_info": {
   "codemirror_mode": {
    "name": "ipython",
    "version": 3
   },
   "file_extension": ".py",
   "mimetype": "text/x-python",
   "name": "python",
   "nbconvert_exporter": "python",
   "pygments_lexer": "ipython3",
   "version": "3.8.8"
  }
 },
 "nbformat": 4,
 "nbformat_minor": 5
}
